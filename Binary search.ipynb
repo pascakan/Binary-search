{
 "cells": [
  {
   "cell_type": "markdown",
   "id": "714edc57-e9c0-4f83-9787-73404d731bf4",
   "metadata": {},
   "source": [
    "Binary Search"
   ]
  },
  {
   "cell_type": "code",
   "execution_count": 1,
   "id": "eb279c58-d69a-4cf8-ac8f-1ad48d8c2325",
   "metadata": {},
   "outputs": [],
   "source": [
    "def binary_search(arr, k):\n",
    "    low, high = 0, len(arr) - 1\n",
    "\n",
    "    while low <= high:\n",
    "        mid = (low + high) // 2  # Find the middle index\n",
    "        \n",
    "        if arr[mid] == k:\n",
    "            # Ensure the smallest index is returned in case of duplicates\n",
    "            while mid > 0 and arr[mid - 1] == k:\n",
    "                mid -= 1\n",
    "            return mid\n",
    "        elif arr[mid] < k:\n",
    "            low = mid + 1\n",
    "        else:\n",
    "            high = mid - 1\n",
    "\n",
    "    return -1  # Return -1 if k is not found"
   ]
  },
  {
   "cell_type": "code",
   "execution_count": null,
   "id": "09b5b689-7203-48d1-9956-174f8c880552",
   "metadata": {},
   "outputs": [],
   "source": []
  }
 ],
 "metadata": {
  "kernelspec": {
   "display_name": "Python 3 (ipykernel)",
   "language": "python",
   "name": "python3"
  },
  "language_info": {
   "codemirror_mode": {
    "name": "ipython",
    "version": 3
   },
   "file_extension": ".py",
   "mimetype": "text/x-python",
   "name": "python",
   "nbconvert_exporter": "python",
   "pygments_lexer": "ipython3",
   "version": "3.12.7"
  }
 },
 "nbformat": 4,
 "nbformat_minor": 5
}
